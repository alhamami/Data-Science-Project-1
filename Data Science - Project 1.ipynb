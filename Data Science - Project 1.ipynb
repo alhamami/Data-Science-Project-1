{
 "cells": [
  {
   "cell_type": "markdown",
   "id": "cb5a945f",
   "metadata": {},
   "source": [
    "# Project: Estimating whether a car is a good buy or a bad buy based on the posting"
   ]
  },
  {
   "cell_type": "markdown",
   "id": "003064bd",
   "metadata": {},
   "source": [
    "## Table of Contents\n",
    "<ul>\n",
    "<li><a href=\"#Introduction\">Introduction</a></li>\n",
    "<li><a href=\"#DataWrangling\">Data Wrangling</a></li>\n",
    "<li><a href=\"#ExploratoryDataAnalysis\">Exploratory Data Analysis</a></li>\n",
    "<li><a href=\"#Conclusions\">Conclusions</a></li>\n",
    "</ul>"
   ]
  },
  {
   "cell_type": "markdown",
   "id": "ac2a4a34",
   "metadata": {},
   "source": [
    "<a id='Introduction'></a>\n",
    "## Introduction\n",
    "The work contains several stages that the data goes through to facilitate dealing with it and benefit from it in solving problems and answering the most important questions. In this work, data about cars were used in the first stage. The data was read from a CSV file that contains 2000 rows and 16 columns, and each column describes the following:\n",
    "\n",
    "maker:normalized all lowercase | model:normalized all lowercase | mileage:in KM | manufacture_year\n",
    "engine_displacement:in ccm | engine_power:in kW | body_type:almost never present, but I scraped only personal cars, no motorcycles or utility vehicles\n",
    "color_slug:also almost never present | stk_year:the year of the last emission control | transmission:automatic or manual\n",
    "door_count | seat_count\n",
    "fuel_type:gasoline, diesel, CNG, LPG, electric | date_created:when the ad was scraped | date_lastseen:when the ad was last seen. Our policy was to remove all ads older than 60 days | price_eur:list price converted to EUR\n",
    "\n",
    "In the second stage, some columns that contained a large lack of information were deleted and were not helpful in the solution. The rest of the missing values have been replaced by the most frequently occurring values to help represent the data. In order to facilitate the future use of data in machine learning models, the data was converted from categories to numbers, which helps the model in dealing with data. In the third stage, the data was used after processing to answer three main questions and represent them graphically in order to facilitate understanding of the results. \n",
    "###### Throughout this work, we are tring to answer this question by exploring the data set and also the connections among variables:\n",
    "###### and we will answer: \n",
    "1- What type of fuel do cars use the most according to Engine Power?\n",
    "\n",
    "2- What year was the newest car made?\n",
    "\n",
    "3- What is the average car price?"
   ]
  },
  {
   "cell_type": "markdown",
   "id": "4608780a",
   "metadata": {},
   "source": [
    "## Importing the libraries"
   ]
  },
  {
   "cell_type": "code",
   "execution_count": 171,
   "id": "ea8b0b6a",
   "metadata": {},
   "outputs": [],
   "source": [
    "import numpy as np\n",
    "import pandas as pd\n",
    "from sklearn.preprocessing import OneHotEncoder\n",
    "import matplotlib.pyplot as plt"
   ]
  },
  {
   "cell_type": "markdown",
   "id": "9d6edefa",
   "metadata": {},
   "source": [
    "<a id='DataWrangling'></a>\n",
    "## Data Wrangling\n",
    "### General Properties : Read dataset from CSV file"
   ]
  },
  {
   "cell_type": "code",
   "execution_count": 172,
   "id": "c4bbdd49",
   "metadata": {},
   "outputs": [
    {
     "data": {
      "text/html": [
       "<div>\n",
       "<style scoped>\n",
       "    .dataframe tbody tr th:only-of-type {\n",
       "        vertical-align: middle;\n",
       "    }\n",
       "\n",
       "    .dataframe tbody tr th {\n",
       "        vertical-align: top;\n",
       "    }\n",
       "\n",
       "    .dataframe thead th {\n",
       "        text-align: right;\n",
       "    }\n",
       "</style>\n",
       "<table border=\"1\" class=\"dataframe\">\n",
       "  <thead>\n",
       "    <tr style=\"text-align: right;\">\n",
       "      <th></th>\n",
       "      <th>maker</th>\n",
       "      <th>model</th>\n",
       "      <th>mileage</th>\n",
       "      <th>manufacture_year</th>\n",
       "      <th>engine_displacement</th>\n",
       "      <th>engine_power</th>\n",
       "      <th>body_type</th>\n",
       "      <th>color_slug</th>\n",
       "      <th>stk_year</th>\n",
       "      <th>transmission</th>\n",
       "      <th>door_count</th>\n",
       "      <th>seat_count</th>\n",
       "      <th>fuel_type</th>\n",
       "      <th>date_created</th>\n",
       "      <th>date_last_seen</th>\n",
       "      <th>price_eur</th>\n",
       "    </tr>\n",
       "  </thead>\n",
       "  <tbody>\n",
       "    <tr>\n",
       "      <th>0</th>\n",
       "      <td>ford</td>\n",
       "      <td>galaxy</td>\n",
       "      <td>151000.0</td>\n",
       "      <td>2011.0</td>\n",
       "      <td>2000.0</td>\n",
       "      <td>103.0</td>\n",
       "      <td>NaN</td>\n",
       "      <td>NaN</td>\n",
       "      <td>None</td>\n",
       "      <td>man</td>\n",
       "      <td>5</td>\n",
       "      <td>7</td>\n",
       "      <td>diesel</td>\n",
       "      <td>2015-11-14 18:10:06.838319+00</td>\n",
       "      <td>2016-01-27 20:40:15.46361+00</td>\n",
       "      <td>10584.75</td>\n",
       "    </tr>\n",
       "    <tr>\n",
       "      <th>1</th>\n",
       "      <td>skoda</td>\n",
       "      <td>octavia</td>\n",
       "      <td>143476.0</td>\n",
       "      <td>2012.0</td>\n",
       "      <td>2000.0</td>\n",
       "      <td>81.0</td>\n",
       "      <td>NaN</td>\n",
       "      <td>NaN</td>\n",
       "      <td>None</td>\n",
       "      <td>man</td>\n",
       "      <td>5</td>\n",
       "      <td>5</td>\n",
       "      <td>diesel</td>\n",
       "      <td>2015-11-14 18:10:06.853411+00</td>\n",
       "      <td>2016-01-27 20:40:15.46361+00</td>\n",
       "      <td>8882.31</td>\n",
       "    </tr>\n",
       "    <tr>\n",
       "      <th>2</th>\n",
       "      <td>bmw</td>\n",
       "      <td>NaN</td>\n",
       "      <td>97676.0</td>\n",
       "      <td>2010.0</td>\n",
       "      <td>1995.0</td>\n",
       "      <td>85.0</td>\n",
       "      <td>NaN</td>\n",
       "      <td>NaN</td>\n",
       "      <td>None</td>\n",
       "      <td>man</td>\n",
       "      <td>5</td>\n",
       "      <td>5</td>\n",
       "      <td>diesel</td>\n",
       "      <td>2015-11-14 18:10:06.861792+00</td>\n",
       "      <td>2016-01-27 20:40:15.46361+00</td>\n",
       "      <td>12065.06</td>\n",
       "    </tr>\n",
       "    <tr>\n",
       "      <th>3</th>\n",
       "      <td>skoda</td>\n",
       "      <td>fabia</td>\n",
       "      <td>111970.0</td>\n",
       "      <td>2004.0</td>\n",
       "      <td>1200.0</td>\n",
       "      <td>47.0</td>\n",
       "      <td>NaN</td>\n",
       "      <td>NaN</td>\n",
       "      <td>None</td>\n",
       "      <td>man</td>\n",
       "      <td>5</td>\n",
       "      <td>5</td>\n",
       "      <td>gasoline</td>\n",
       "      <td>2015-11-14 18:10:06.872313+00</td>\n",
       "      <td>2016-01-27 20:40:15.46361+00</td>\n",
       "      <td>2960.77</td>\n",
       "    </tr>\n",
       "    <tr>\n",
       "      <th>4</th>\n",
       "      <td>skoda</td>\n",
       "      <td>fabia</td>\n",
       "      <td>128886.0</td>\n",
       "      <td>2004.0</td>\n",
       "      <td>1200.0</td>\n",
       "      <td>47.0</td>\n",
       "      <td>NaN</td>\n",
       "      <td>NaN</td>\n",
       "      <td>None</td>\n",
       "      <td>man</td>\n",
       "      <td>5</td>\n",
       "      <td>5</td>\n",
       "      <td>gasoline</td>\n",
       "      <td>2015-11-14 18:10:06.880335+00</td>\n",
       "      <td>2016-01-27 20:40:15.46361+00</td>\n",
       "      <td>2738.71</td>\n",
       "    </tr>\n",
       "  </tbody>\n",
       "</table>\n",
       "</div>"
      ],
      "text/plain": [
       "   maker    model   mileage  manufacture_year  engine_displacement  \\\n",
       "0   ford   galaxy  151000.0            2011.0               2000.0   \n",
       "1  skoda  octavia  143476.0            2012.0               2000.0   \n",
       "2    bmw      NaN   97676.0            2010.0               1995.0   \n",
       "3  skoda    fabia  111970.0            2004.0               1200.0   \n",
       "4  skoda    fabia  128886.0            2004.0               1200.0   \n",
       "\n",
       "   engine_power body_type  color_slug stk_year transmission door_count  \\\n",
       "0         103.0       NaN         NaN     None          man          5   \n",
       "1          81.0       NaN         NaN     None          man          5   \n",
       "2          85.0       NaN         NaN     None          man          5   \n",
       "3          47.0       NaN         NaN     None          man          5   \n",
       "4          47.0       NaN         NaN     None          man          5   \n",
       "\n",
       "  seat_count fuel_type                   date_created  \\\n",
       "0          7    diesel  2015-11-14 18:10:06.838319+00   \n",
       "1          5    diesel  2015-11-14 18:10:06.853411+00   \n",
       "2          5    diesel  2015-11-14 18:10:06.861792+00   \n",
       "3          5  gasoline  2015-11-14 18:10:06.872313+00   \n",
       "4          5  gasoline  2015-11-14 18:10:06.880335+00   \n",
       "\n",
       "                 date_last_seen  price_eur  \n",
       "0  2016-01-27 20:40:15.46361+00   10584.75  \n",
       "1  2016-01-27 20:40:15.46361+00    8882.31  \n",
       "2  2016-01-27 20:40:15.46361+00   12065.06  \n",
       "3  2016-01-27 20:40:15.46361+00    2960.77  \n",
       "4  2016-01-27 20:40:15.46361+00    2738.71  "
      ]
     },
     "execution_count": 172,
     "metadata": {},
     "output_type": "execute_result"
    }
   ],
   "source": [
    "dataset = pd.read_csv('data1.csv')\n",
    "dataset.head()"
   ]
  },
  {
   "cell_type": "code",
   "execution_count": 173,
   "id": "6890a29a",
   "metadata": {},
   "outputs": [
    {
     "data": {
      "text/plain": [
       "(1999, 16)"
      ]
     },
     "execution_count": 173,
     "metadata": {},
     "output_type": "execute_result"
    }
   ],
   "source": [
    "## we want to know the count of columns and index\n",
    "dataset.shape"
   ]
  },
  {
   "cell_type": "code",
   "execution_count": 174,
   "id": "b05ea8fc",
   "metadata": {},
   "outputs": [
    {
     "data": {
      "text/plain": [
       "maker                   479\n",
       "model                   632\n",
       "mileage                   1\n",
       "manufacture_year        253\n",
       "engine_displacement       4\n",
       "engine_power              6\n",
       "body_type              1986\n",
       "color_slug             1999\n",
       "stk_year                  0\n",
       "transmission             62\n",
       "door_count                0\n",
       "seat_count                0\n",
       "fuel_type                 0\n",
       "date_created              0\n",
       "date_last_seen            0\n",
       "price_eur                 0\n",
       "dtype: int64"
      ]
     },
     "execution_count": 174,
     "metadata": {},
     "output_type": "execute_result"
    }
   ],
   "source": [
    "## we want to check if we have a null values or not\n",
    "pd.isna(dataset).sum()"
   ]
  },
  {
   "cell_type": "code",
   "execution_count": 175,
   "id": "c0f828d3",
   "metadata": {},
   "outputs": [
    {
     "name": "stdout",
     "output_type": "stream",
     "text": [
      "<class 'pandas.core.frame.DataFrame'>\n",
      "RangeIndex: 1999 entries, 0 to 1998\n",
      "Data columns (total 16 columns):\n",
      " #   Column               Non-Null Count  Dtype  \n",
      "---  ------               --------------  -----  \n",
      " 0   maker                1520 non-null   object \n",
      " 1   model                1367 non-null   object \n",
      " 2   mileage              1998 non-null   float64\n",
      " 3   manufacture_year     1746 non-null   float64\n",
      " 4   engine_displacement  1995 non-null   float64\n",
      " 5   engine_power         1993 non-null   float64\n",
      " 6   body_type            13 non-null     object \n",
      " 7   color_slug           0 non-null      float64\n",
      " 8   stk_year             1999 non-null   object \n",
      " 9   transmission         1937 non-null   object \n",
      " 10  door_count           1999 non-null   object \n",
      " 11  seat_count           1999 non-null   object \n",
      " 12  fuel_type            1999 non-null   object \n",
      " 13  date_created         1999 non-null   object \n",
      " 14  date_last_seen       1999 non-null   object \n",
      " 15  price_eur            1999 non-null   float64\n",
      "dtypes: float64(6), object(10)\n",
      "memory usage: 250.0+ KB\n"
     ]
    }
   ],
   "source": [
    "## we want to check if the datatypes is well?\n",
    "## and check if there any mistakes in the names of columns\n",
    "dataset.info()"
   ]
  },
  {
   "cell_type": "code",
   "execution_count": 176,
   "id": "a81de16a",
   "metadata": {},
   "outputs": [
    {
     "data": {
      "text/html": [
       "<div>\n",
       "<style scoped>\n",
       "    .dataframe tbody tr th:only-of-type {\n",
       "        vertical-align: middle;\n",
       "    }\n",
       "\n",
       "    .dataframe tbody tr th {\n",
       "        vertical-align: top;\n",
       "    }\n",
       "\n",
       "    .dataframe thead th {\n",
       "        text-align: right;\n",
       "    }\n",
       "</style>\n",
       "<table border=\"1\" class=\"dataframe\">\n",
       "  <thead>\n",
       "    <tr style=\"text-align: right;\">\n",
       "      <th></th>\n",
       "      <th>mileage</th>\n",
       "      <th>manufacture_year</th>\n",
       "      <th>engine_displacement</th>\n",
       "      <th>engine_power</th>\n",
       "      <th>color_slug</th>\n",
       "      <th>price_eur</th>\n",
       "    </tr>\n",
       "  </thead>\n",
       "  <tbody>\n",
       "    <tr>\n",
       "      <th>count</th>\n",
       "      <td>1.998000e+03</td>\n",
       "      <td>1746.000000</td>\n",
       "      <td>1995.000000</td>\n",
       "      <td>1993.00000</td>\n",
       "      <td>0.0</td>\n",
       "      <td>1999.000000</td>\n",
       "    </tr>\n",
       "    <tr>\n",
       "      <th>mean</th>\n",
       "      <td>1.297011e+05</td>\n",
       "      <td>2007.332188</td>\n",
       "      <td>1781.716291</td>\n",
       "      <td>89.66583</td>\n",
       "      <td>NaN</td>\n",
       "      <td>9182.711231</td>\n",
       "    </tr>\n",
       "    <tr>\n",
       "      <th>std</th>\n",
       "      <td>8.484110e+04</td>\n",
       "      <td>4.974855</td>\n",
       "      <td>559.589448</td>\n",
       "      <td>41.63521</td>\n",
       "      <td>NaN</td>\n",
       "      <td>11968.585785</td>\n",
       "    </tr>\n",
       "    <tr>\n",
       "      <th>min</th>\n",
       "      <td>0.000000e+00</td>\n",
       "      <td>1989.000000</td>\n",
       "      <td>599.000000</td>\n",
       "      <td>33.00000</td>\n",
       "      <td>NaN</td>\n",
       "      <td>181.350000</td>\n",
       "    </tr>\n",
       "    <tr>\n",
       "      <th>25%</th>\n",
       "      <td>7.125000e+04</td>\n",
       "      <td>2004.000000</td>\n",
       "      <td>1400.000000</td>\n",
       "      <td>66.00000</td>\n",
       "      <td>NaN</td>\n",
       "      <td>2953.370000</td>\n",
       "    </tr>\n",
       "    <tr>\n",
       "      <th>50%</th>\n",
       "      <td>1.322590e+05</td>\n",
       "      <td>2007.000000</td>\n",
       "      <td>1600.000000</td>\n",
       "      <td>80.00000</td>\n",
       "      <td>NaN</td>\n",
       "      <td>5736.490000</td>\n",
       "    </tr>\n",
       "    <tr>\n",
       "      <th>75%</th>\n",
       "      <td>1.807832e+05</td>\n",
       "      <td>2011.000000</td>\n",
       "      <td>1992.000000</td>\n",
       "      <td>103.00000</td>\n",
       "      <td>NaN</td>\n",
       "      <td>10214.660000</td>\n",
       "    </tr>\n",
       "    <tr>\n",
       "      <th>max</th>\n",
       "      <td>1.774593e+06</td>\n",
       "      <td>2015.000000</td>\n",
       "      <td>6208.000000</td>\n",
       "      <td>412.00000</td>\n",
       "      <td>NaN</td>\n",
       "      <td>142487.050000</td>\n",
       "    </tr>\n",
       "  </tbody>\n",
       "</table>\n",
       "</div>"
      ],
      "text/plain": [
       "            mileage  manufacture_year  engine_displacement  engine_power  \\\n",
       "count  1.998000e+03       1746.000000          1995.000000    1993.00000   \n",
       "mean   1.297011e+05       2007.332188          1781.716291      89.66583   \n",
       "std    8.484110e+04          4.974855           559.589448      41.63521   \n",
       "min    0.000000e+00       1989.000000           599.000000      33.00000   \n",
       "25%    7.125000e+04       2004.000000          1400.000000      66.00000   \n",
       "50%    1.322590e+05       2007.000000          1600.000000      80.00000   \n",
       "75%    1.807832e+05       2011.000000          1992.000000     103.00000   \n",
       "max    1.774593e+06       2015.000000          6208.000000     412.00000   \n",
       "\n",
       "       color_slug      price_eur  \n",
       "count         0.0    1999.000000  \n",
       "mean          NaN    9182.711231  \n",
       "std           NaN   11968.585785  \n",
       "min           NaN     181.350000  \n",
       "25%           NaN    2953.370000  \n",
       "50%           NaN    5736.490000  \n",
       "75%           NaN   10214.660000  \n",
       "max           NaN  142487.050000  "
      ]
     },
     "execution_count": 176,
     "metadata": {},
     "output_type": "execute_result"
    }
   ],
   "source": [
    "## from the min of 'Age' = -1, We can notice that there is an error, and it will be fixed in the next steps\n",
    "dataset.describe()"
   ]
  },
  {
   "cell_type": "markdown",
   "id": "3aa2fba6",
   "metadata": {},
   "source": [
    "### Data Cleaning (Here we will fix the mistakes we saw it from pervious steps)"
   ]
  },
  {
   "cell_type": "markdown",
   "id": "2a78f212",
   "metadata": {},
   "source": [
    "## Drop some not necessary columns and filling NaN values with most frequent values"
   ]
  },
  {
   "cell_type": "code",
   "execution_count": 177,
   "id": "74439468",
   "metadata": {},
   "outputs": [],
   "source": [
    "dataset=dataset.drop('body_type', axis='columns')\n",
    "dataset=dataset.drop('color_slug', axis='columns')\n",
    "dataset=dataset.drop('stk_year', axis='columns')\n",
    "dataset = dataset.apply(lambda x: x.fillna(x.value_counts().index[0]))\n",
    "dataset2 = dataset"
   ]
  },
  {
   "cell_type": "markdown",
   "id": "0d6634a0",
   "metadata": {},
   "source": [
    "## One Hot Encoding\n",
    "#### With one-hot, we convert each categorical value into a new categorical column and assign a binary value of 1 or 0 to those columns"
   ]
  },
  {
   "cell_type": "code",
   "execution_count": 178,
   "id": "1886a9b9",
   "metadata": {},
   "outputs": [],
   "source": [
    "ohe = OneHotEncoder()\n",
    "oheR = ohe.fit_transform(dataset[[\"maker\"]])\n",
    "new_data = pd.DataFrame(oheR.toarray(), columns=ohe.categories_)\n",
    "dataset = pd.merge(new_data, dataset, right_index=True, left_index=True)"
   ]
  },
  {
   "cell_type": "code",
   "execution_count": 179,
   "id": "236888f0",
   "metadata": {},
   "outputs": [],
   "source": [
    "ohe2 = OneHotEncoder()\n",
    "oheR2 = ohe2.fit_transform(dataset[[\"maker\"]])\n",
    "new_data2 = pd.DataFrame(oheR2.toarray(), columns=ohe2.categories_)\n",
    "dataset = pd.merge(new_data2, dataset, right_index=True, left_index=True)"
   ]
  },
  {
   "cell_type": "markdown",
   "id": "6f02ebe3",
   "metadata": {},
   "source": [
    "## Convert column values to numbers instead of categories to facilitate data handling"
   ]
  },
  {
   "cell_type": "code",
   "execution_count": 180,
   "id": "009c9067",
   "metadata": {},
   "outputs": [],
   "source": [
    "dataset['transmission'] = dataset['transmission'].replace({\n",
    "    'man':0,\n",
    "    'auto':1\n",
    "})\n",
    "\n",
    "dataset['fuel_type'] = dataset['fuel_type'].replace({\n",
    "    'diesel':0,\n",
    "    'gasoline':1\n",
    "})\n"
   ]
  },
  {
   "cell_type": "code",
   "execution_count": 181,
   "id": "2f3b352b",
   "metadata": {},
   "outputs": [
    {
     "data": {
      "text/html": [
       "<div>\n",
       "<style scoped>\n",
       "    .dataframe tbody tr th:only-of-type {\n",
       "        vertical-align: middle;\n",
       "    }\n",
       "\n",
       "    .dataframe tbody tr th {\n",
       "        vertical-align: top;\n",
       "    }\n",
       "\n",
       "    .dataframe thead th {\n",
       "        text-align: right;\n",
       "    }\n",
       "</style>\n",
       "<table border=\"1\" class=\"dataframe\">\n",
       "  <thead>\n",
       "    <tr style=\"text-align: right;\">\n",
       "      <th></th>\n",
       "      <th>(audi_x,)</th>\n",
       "      <th>(bmw_x,)</th>\n",
       "      <th>(chevrolet_x,)</th>\n",
       "      <th>(chrysler_x,)</th>\n",
       "      <th>(citroen_x,)</th>\n",
       "      <th>(dodge_x,)</th>\n",
       "      <th>(fiat_x,)</th>\n",
       "      <th>(ford_x,)</th>\n",
       "      <th>(honda_x,)</th>\n",
       "      <th>(hummer_x,)</th>\n",
       "      <th>...</th>\n",
       "      <th>manufacture_year</th>\n",
       "      <th>engine_displacement</th>\n",
       "      <th>engine_power</th>\n",
       "      <th>transmission</th>\n",
       "      <th>door_count</th>\n",
       "      <th>seat_count</th>\n",
       "      <th>fuel_type</th>\n",
       "      <th>date_created</th>\n",
       "      <th>date_last_seen</th>\n",
       "      <th>price_eur</th>\n",
       "    </tr>\n",
       "  </thead>\n",
       "  <tbody>\n",
       "    <tr>\n",
       "      <th>0</th>\n",
       "      <td>0.0</td>\n",
       "      <td>0.0</td>\n",
       "      <td>0.0</td>\n",
       "      <td>0.0</td>\n",
       "      <td>0.0</td>\n",
       "      <td>0.0</td>\n",
       "      <td>0.0</td>\n",
       "      <td>1.0</td>\n",
       "      <td>0.0</td>\n",
       "      <td>0.0</td>\n",
       "      <td>...</td>\n",
       "      <td>2011.0</td>\n",
       "      <td>2000.0</td>\n",
       "      <td>103.0</td>\n",
       "      <td>0</td>\n",
       "      <td>5</td>\n",
       "      <td>7</td>\n",
       "      <td>0</td>\n",
       "      <td>2015-11-14 18:10:06.838319+00</td>\n",
       "      <td>2016-01-27 20:40:15.46361+00</td>\n",
       "      <td>10584.75</td>\n",
       "    </tr>\n",
       "    <tr>\n",
       "      <th>1</th>\n",
       "      <td>0.0</td>\n",
       "      <td>0.0</td>\n",
       "      <td>0.0</td>\n",
       "      <td>0.0</td>\n",
       "      <td>0.0</td>\n",
       "      <td>0.0</td>\n",
       "      <td>0.0</td>\n",
       "      <td>0.0</td>\n",
       "      <td>0.0</td>\n",
       "      <td>0.0</td>\n",
       "      <td>...</td>\n",
       "      <td>2012.0</td>\n",
       "      <td>2000.0</td>\n",
       "      <td>81.0</td>\n",
       "      <td>0</td>\n",
       "      <td>5</td>\n",
       "      <td>5</td>\n",
       "      <td>0</td>\n",
       "      <td>2015-11-14 18:10:06.853411+00</td>\n",
       "      <td>2016-01-27 20:40:15.46361+00</td>\n",
       "      <td>8882.31</td>\n",
       "    </tr>\n",
       "    <tr>\n",
       "      <th>2</th>\n",
       "      <td>0.0</td>\n",
       "      <td>1.0</td>\n",
       "      <td>0.0</td>\n",
       "      <td>0.0</td>\n",
       "      <td>0.0</td>\n",
       "      <td>0.0</td>\n",
       "      <td>0.0</td>\n",
       "      <td>0.0</td>\n",
       "      <td>0.0</td>\n",
       "      <td>0.0</td>\n",
       "      <td>...</td>\n",
       "      <td>2010.0</td>\n",
       "      <td>1995.0</td>\n",
       "      <td>85.0</td>\n",
       "      <td>0</td>\n",
       "      <td>5</td>\n",
       "      <td>5</td>\n",
       "      <td>0</td>\n",
       "      <td>2015-11-14 18:10:06.861792+00</td>\n",
       "      <td>2016-01-27 20:40:15.46361+00</td>\n",
       "      <td>12065.06</td>\n",
       "    </tr>\n",
       "    <tr>\n",
       "      <th>3</th>\n",
       "      <td>0.0</td>\n",
       "      <td>0.0</td>\n",
       "      <td>0.0</td>\n",
       "      <td>0.0</td>\n",
       "      <td>0.0</td>\n",
       "      <td>0.0</td>\n",
       "      <td>0.0</td>\n",
       "      <td>0.0</td>\n",
       "      <td>0.0</td>\n",
       "      <td>0.0</td>\n",
       "      <td>...</td>\n",
       "      <td>2004.0</td>\n",
       "      <td>1200.0</td>\n",
       "      <td>47.0</td>\n",
       "      <td>0</td>\n",
       "      <td>5</td>\n",
       "      <td>5</td>\n",
       "      <td>1</td>\n",
       "      <td>2015-11-14 18:10:06.872313+00</td>\n",
       "      <td>2016-01-27 20:40:15.46361+00</td>\n",
       "      <td>2960.77</td>\n",
       "    </tr>\n",
       "    <tr>\n",
       "      <th>4</th>\n",
       "      <td>0.0</td>\n",
       "      <td>0.0</td>\n",
       "      <td>0.0</td>\n",
       "      <td>0.0</td>\n",
       "      <td>0.0</td>\n",
       "      <td>0.0</td>\n",
       "      <td>0.0</td>\n",
       "      <td>0.0</td>\n",
       "      <td>0.0</td>\n",
       "      <td>0.0</td>\n",
       "      <td>...</td>\n",
       "      <td>2004.0</td>\n",
       "      <td>1200.0</td>\n",
       "      <td>47.0</td>\n",
       "      <td>0</td>\n",
       "      <td>5</td>\n",
       "      <td>5</td>\n",
       "      <td>1</td>\n",
       "      <td>2015-11-14 18:10:06.880335+00</td>\n",
       "      <td>2016-01-27 20:40:15.46361+00</td>\n",
       "      <td>2738.71</td>\n",
       "    </tr>\n",
       "    <tr>\n",
       "      <th>...</th>\n",
       "      <td>...</td>\n",
       "      <td>...</td>\n",
       "      <td>...</td>\n",
       "      <td>...</td>\n",
       "      <td>...</td>\n",
       "      <td>...</td>\n",
       "      <td>...</td>\n",
       "      <td>...</td>\n",
       "      <td>...</td>\n",
       "      <td>...</td>\n",
       "      <td>...</td>\n",
       "      <td>...</td>\n",
       "      <td>...</td>\n",
       "      <td>...</td>\n",
       "      <td>...</td>\n",
       "      <td>...</td>\n",
       "      <td>...</td>\n",
       "      <td>...</td>\n",
       "      <td>...</td>\n",
       "      <td>...</td>\n",
       "      <td>...</td>\n",
       "    </tr>\n",
       "    <tr>\n",
       "      <th>995</th>\n",
       "      <td>0.0</td>\n",
       "      <td>0.0</td>\n",
       "      <td>0.0</td>\n",
       "      <td>0.0</td>\n",
       "      <td>0.0</td>\n",
       "      <td>0.0</td>\n",
       "      <td>0.0</td>\n",
       "      <td>0.0</td>\n",
       "      <td>0.0</td>\n",
       "      <td>0.0</td>\n",
       "      <td>...</td>\n",
       "      <td>2004.0</td>\n",
       "      <td>1896.0</td>\n",
       "      <td>66.0</td>\n",
       "      <td>0</td>\n",
       "      <td>5</td>\n",
       "      <td>5</td>\n",
       "      <td>0</td>\n",
       "      <td>2015-11-14 18:55:52.047633+00</td>\n",
       "      <td>2016-01-27 20:40:15.46361+00</td>\n",
       "      <td>3663.95</td>\n",
       "    </tr>\n",
       "    <tr>\n",
       "      <th>996</th>\n",
       "      <td>0.0</td>\n",
       "      <td>0.0</td>\n",
       "      <td>0.0</td>\n",
       "      <td>0.0</td>\n",
       "      <td>0.0</td>\n",
       "      <td>0.0</td>\n",
       "      <td>0.0</td>\n",
       "      <td>0.0</td>\n",
       "      <td>0.0</td>\n",
       "      <td>0.0</td>\n",
       "      <td>...</td>\n",
       "      <td>2006.0</td>\n",
       "      <td>1390.0</td>\n",
       "      <td>55.0</td>\n",
       "      <td>0</td>\n",
       "      <td>5</td>\n",
       "      <td>5</td>\n",
       "      <td>1</td>\n",
       "      <td>2015-11-14 18:55:52.065277+00</td>\n",
       "      <td>2016-01-27 20:40:15.46361+00</td>\n",
       "      <td>3515.91</td>\n",
       "    </tr>\n",
       "    <tr>\n",
       "      <th>997</th>\n",
       "      <td>0.0</td>\n",
       "      <td>0.0</td>\n",
       "      <td>0.0</td>\n",
       "      <td>0.0</td>\n",
       "      <td>0.0</td>\n",
       "      <td>0.0</td>\n",
       "      <td>0.0</td>\n",
       "      <td>0.0</td>\n",
       "      <td>0.0</td>\n",
       "      <td>0.0</td>\n",
       "      <td>...</td>\n",
       "      <td>1997.0</td>\n",
       "      <td>1840.0</td>\n",
       "      <td>66.0</td>\n",
       "      <td>0</td>\n",
       "      <td>4</td>\n",
       "      <td>5</td>\n",
       "      <td>1</td>\n",
       "      <td>2015-11-14 18:55:52.104466+00</td>\n",
       "      <td>2016-01-27 20:40:15.46361+00</td>\n",
       "      <td>666.17</td>\n",
       "    </tr>\n",
       "    <tr>\n",
       "      <th>998</th>\n",
       "      <td>0.0</td>\n",
       "      <td>0.0</td>\n",
       "      <td>0.0</td>\n",
       "      <td>0.0</td>\n",
       "      <td>0.0</td>\n",
       "      <td>0.0</td>\n",
       "      <td>0.0</td>\n",
       "      <td>0.0</td>\n",
       "      <td>0.0</td>\n",
       "      <td>0.0</td>\n",
       "      <td>...</td>\n",
       "      <td>2004.0</td>\n",
       "      <td>1086.0</td>\n",
       "      <td>43.0</td>\n",
       "      <td>0</td>\n",
       "      <td>5</td>\n",
       "      <td>5</td>\n",
       "      <td>1</td>\n",
       "      <td>2015-11-14 18:55:52.117998+00</td>\n",
       "      <td>2016-01-27 20:40:15.46361+00</td>\n",
       "      <td>2035.53</td>\n",
       "    </tr>\n",
       "    <tr>\n",
       "      <th>999</th>\n",
       "      <td>0.0</td>\n",
       "      <td>0.0</td>\n",
       "      <td>0.0</td>\n",
       "      <td>0.0</td>\n",
       "      <td>0.0</td>\n",
       "      <td>0.0</td>\n",
       "      <td>0.0</td>\n",
       "      <td>1.0</td>\n",
       "      <td>0.0</td>\n",
       "      <td>0.0</td>\n",
       "      <td>...</td>\n",
       "      <td>2015.0</td>\n",
       "      <td>1242.0</td>\n",
       "      <td>60.0</td>\n",
       "      <td>0</td>\n",
       "      <td>3</td>\n",
       "      <td>5</td>\n",
       "      <td>1</td>\n",
       "      <td>2015-11-14 18:55:52.204329+00</td>\n",
       "      <td>2016-01-27 20:40:15.46361+00</td>\n",
       "      <td>4807.55</td>\n",
       "    </tr>\n",
       "  </tbody>\n",
       "</table>\n",
       "<p>1000 rows × 75 columns</p>\n",
       "</div>"
      ],
      "text/plain": [
       "     (audi_x,)  (bmw_x,)  (chevrolet_x,)  (chrysler_x,)  (citroen_x,)  \\\n",
       "0          0.0       0.0             0.0            0.0           0.0   \n",
       "1          0.0       0.0             0.0            0.0           0.0   \n",
       "2          0.0       1.0             0.0            0.0           0.0   \n",
       "3          0.0       0.0             0.0            0.0           0.0   \n",
       "4          0.0       0.0             0.0            0.0           0.0   \n",
       "..         ...       ...             ...            ...           ...   \n",
       "995        0.0       0.0             0.0            0.0           0.0   \n",
       "996        0.0       0.0             0.0            0.0           0.0   \n",
       "997        0.0       0.0             0.0            0.0           0.0   \n",
       "998        0.0       0.0             0.0            0.0           0.0   \n",
       "999        0.0       0.0             0.0            0.0           0.0   \n",
       "\n",
       "     (dodge_x,)  (fiat_x,)  (ford_x,)  (honda_x,)  (hummer_x,)  ...  \\\n",
       "0           0.0        0.0        1.0         0.0          0.0  ...   \n",
       "1           0.0        0.0        0.0         0.0          0.0  ...   \n",
       "2           0.0        0.0        0.0         0.0          0.0  ...   \n",
       "3           0.0        0.0        0.0         0.0          0.0  ...   \n",
       "4           0.0        0.0        0.0         0.0          0.0  ...   \n",
       "..          ...        ...        ...         ...          ...  ...   \n",
       "995         0.0        0.0        0.0         0.0          0.0  ...   \n",
       "996         0.0        0.0        0.0         0.0          0.0  ...   \n",
       "997         0.0        0.0        0.0         0.0          0.0  ...   \n",
       "998         0.0        0.0        0.0         0.0          0.0  ...   \n",
       "999         0.0        0.0        1.0         0.0          0.0  ...   \n",
       "\n",
       "     manufacture_year  engine_displacement  engine_power  transmission  \\\n",
       "0              2011.0               2000.0         103.0             0   \n",
       "1              2012.0               2000.0          81.0             0   \n",
       "2              2010.0               1995.0          85.0             0   \n",
       "3              2004.0               1200.0          47.0             0   \n",
       "4              2004.0               1200.0          47.0             0   \n",
       "..                ...                  ...           ...           ...   \n",
       "995            2004.0               1896.0          66.0             0   \n",
       "996            2006.0               1390.0          55.0             0   \n",
       "997            1997.0               1840.0          66.0             0   \n",
       "998            2004.0               1086.0          43.0             0   \n",
       "999            2015.0               1242.0          60.0             0   \n",
       "\n",
       "     door_count  seat_count  fuel_type                   date_created  \\\n",
       "0             5           7          0  2015-11-14 18:10:06.838319+00   \n",
       "1             5           5          0  2015-11-14 18:10:06.853411+00   \n",
       "2             5           5          0  2015-11-14 18:10:06.861792+00   \n",
       "3             5           5          1  2015-11-14 18:10:06.872313+00   \n",
       "4             5           5          1  2015-11-14 18:10:06.880335+00   \n",
       "..          ...         ...        ...                            ...   \n",
       "995           5           5          0  2015-11-14 18:55:52.047633+00   \n",
       "996           5           5          1  2015-11-14 18:55:52.065277+00   \n",
       "997           4           5          1  2015-11-14 18:55:52.104466+00   \n",
       "998           5           5          1  2015-11-14 18:55:52.117998+00   \n",
       "999           3           5          1  2015-11-14 18:55:52.204329+00   \n",
       "\n",
       "                   date_last_seen  price_eur  \n",
       "0    2016-01-27 20:40:15.46361+00   10584.75  \n",
       "1    2016-01-27 20:40:15.46361+00    8882.31  \n",
       "2    2016-01-27 20:40:15.46361+00   12065.06  \n",
       "3    2016-01-27 20:40:15.46361+00    2960.77  \n",
       "4    2016-01-27 20:40:15.46361+00    2738.71  \n",
       "..                            ...        ...  \n",
       "995  2016-01-27 20:40:15.46361+00    3663.95  \n",
       "996  2016-01-27 20:40:15.46361+00    3515.91  \n",
       "997  2016-01-27 20:40:15.46361+00     666.17  \n",
       "998  2016-01-27 20:40:15.46361+00    2035.53  \n",
       "999  2016-01-27 20:40:15.46361+00    4807.55  \n",
       "\n",
       "[1000 rows x 75 columns]"
      ]
     },
     "execution_count": 181,
     "metadata": {},
     "output_type": "execute_result"
    }
   ],
   "source": [
    "dataset.head(1000)"
   ]
  },
  {
   "cell_type": "markdown",
   "id": "b1f42ad3",
   "metadata": {},
   "source": [
    "<a id='ExploratoryDataAnalysis'></a>\n",
    "## Exploratory Data Analysis"
   ]
  },
  {
   "cell_type": "markdown",
   "id": "db1f0279",
   "metadata": {},
   "source": [
    "## Questions :\n",
    "### Research Q. 1) What type of fuel do cars use the most according to Engine Power? \n",
    "#### ( Here will we see the type of fuel do cars use most )"
   ]
  },
  {
   "cell_type": "markdown",
   "id": "82427499",
   "metadata": {},
   "source": [
    "#### Here we will create two data set, one for cars that use diesel, and one for cars that use gasoline:"
   ]
  },
  {
   "cell_type": "code",
   "execution_count": 182,
   "id": "6f926b53",
   "metadata": {
    "scrolled": true
   },
   "outputs": [],
   "source": [
    "diesel = dataset2.query('fuel_type  == \"diesel\"')"
   ]
  },
  {
   "cell_type": "code",
   "execution_count": 183,
   "id": "b3542d33",
   "metadata": {},
   "outputs": [],
   "source": [
    "gasoline = dataset2.query('fuel_type  == \"gasoline\"')"
   ]
  },
  {
   "cell_type": "markdown",
   "id": "2417901e",
   "metadata": {},
   "source": [
    "#### Here we will see the number of cars that use diesel, and that use gasoline:"
   ]
  },
  {
   "cell_type": "code",
   "execution_count": 184,
   "id": "e24e806f",
   "metadata": {},
   "outputs": [
    {
     "data": {
      "text/plain": [
       "1062"
      ]
     },
     "execution_count": 184,
     "metadata": {},
     "output_type": "execute_result"
    }
   ],
   "source": [
    "len(diesel)"
   ]
  },
  {
   "cell_type": "code",
   "execution_count": 185,
   "id": "9317bd00",
   "metadata": {},
   "outputs": [
    {
     "data": {
      "text/plain": [
       "937"
      ]
     },
     "execution_count": 185,
     "metadata": {},
     "output_type": "execute_result"
    }
   ],
   "source": [
    "len(gasoline)"
   ]
  },
  {
   "cell_type": "markdown",
   "id": "aaba0dbf",
   "metadata": {},
   "source": [
    "#### Now we will use bar chart to see the number of cars that uses diesel and gasoline:"
   ]
  },
  {
   "cell_type": "code",
   "execution_count": 186,
   "id": "2b71c9af",
   "metadata": {},
   "outputs": [
    {
     "data": {
      "image/png": "[encoded data removed]",
      "text/plain": [
       "<Figure size 432x288 with 1 Axes>"
      ]
     },
     "metadata": {
      "needs_background": "light"
     },
     "output_type": "display_data"
    }
   ],
   "source": [
    "plt.bar(dataset2['fuel_type'].unique(), dataset2.groupby(['fuel_type']).count().engine_power);\n",
    "plt.ylabel(\"Engine Power\")\n",
    "plt.xlabel(\"Fuel Type\");"
   ]
  },
  {
   "cell_type": "markdown",
   "id": "1a70029e",
   "metadata": {},
   "source": [
    "#### Now we will use pie chart to see the percentage of cars that use diesel and cars that use gasoline:"
   ]
  },
  {
   "cell_type": "code",
   "execution_count": 187,
   "id": "c88e5ef7",
   "metadata": {},
   "outputs": [
    {
     "data": {
      "image/png": "[encoded data removed]",
      "text/plain": [
       "<Figure size 360x360 with 1 Axes>"
      ]
     },
     "metadata": {},
     "output_type": "display_data"
    }
   ],
   "source": [
    "pie = pd.DataFrame({'mass': [len(diesel),  len(gasoline)],\n",
    "                   'radius': [len(diesel), len(gasoline)]},\n",
    "                  index=['Diesel', 'Gasoline'])\n",
    "plot = pie.plot.pie(y='mass', figsize=(5, 5))"
   ]
  },
  {
   "cell_type": "markdown",
   "id": "abe43bbd",
   "metadata": {},
   "source": [
    "#### We know now the percentage of cars that use diesel is 53.1% and cars that use gasoline is 46.9%:"
   ]
  },
  {
   "cell_type": "code",
   "execution_count": 188,
   "id": "1633a1dc",
   "metadata": {},
   "outputs": [
    {
     "data": {
      "image/png": "[encoded data removed]",
      "text/plain": [
       "<Figure size 504x504 with 1 Axes>"
      ]
     },
     "metadata": {},
     "output_type": "display_data"
    }
   ],
   "source": [
    "dataset2['fuel_type'].value_counts().plot.pie(figsize=(7,7), autopct='%1.1f%%', fontsize = 12)\n",
    "plt.show()"
   ]
  },
  {
   "cell_type": "markdown",
   "id": "2b4f86e1",
   "metadata": {},
   "source": [
    "### So, we can notice the percentage of cars that use diesel is more than cars that use gasoline but we can see they are close to each other"
   ]
  },
  {
   "cell_type": "markdown",
   "id": "e3d2cc0d",
   "metadata": {},
   "source": [
    "#### The answer:"
   ]
  },
  {
   "cell_type": "code",
   "execution_count": 189,
   "id": "0f1dae13",
   "metadata": {
    "scrolled": true
   },
   "outputs": [
    {
     "name": "stdout",
     "output_type": "stream",
     "text": [
      "Answer: diesel\n"
     ]
    }
   ],
   "source": [
    "x = dataset2['fuel_type'].value_counts().idxmax()\n",
    "print(\"Answer:\",x)"
   ]
  },
  {
   "cell_type": "markdown",
   "id": "032975e8",
   "metadata": {},
   "source": [
    "### 2) What year was the newest car made? \n",
    "#### ( Here will we see the year of newest car was made )"
   ]
  },
  {
   "cell_type": "markdown",
   "id": "c8ff06c9",
   "metadata": {},
   "source": [
    "#### Now we will use bar chart to see how many cars were made in all the years:"
   ]
  },
  {
   "cell_type": "code",
   "execution_count": 190,
   "id": "42ee342b",
   "metadata": {},
   "outputs": [],
   "source": [
    "made = dataset2.query('manufacture_year  == 2010')"
   ]
  },
  {
   "cell_type": "code",
   "execution_count": 191,
   "id": "f267fab2",
   "metadata": {},
   "outputs": [
    {
     "data": {
      "image/png": "[encoded data removed]",
      "text/plain": [
       "<Figure size 432x288 with 1 Axes>"
      ]
     },
     "metadata": {
      "needs_background": "light"
     },
     "output_type": "display_data"
    }
   ],
   "source": [
    "plt.hist(dataset2.manufacture_year);\n",
    "plt.ylabel(\"Number Of Cars\")\n",
    "plt.xlabel(\"Manufacture Years\");"
   ]
  },
  {
   "cell_type": "markdown",
   "id": "8d39e3c1",
   "metadata": {},
   "source": [
    "### We can see that the most recent year in which a car was made is 2015, which is the year in which most cars were made"
   ]
  },
  {
   "cell_type": "markdown",
   "id": "4fb4d04a",
   "metadata": {},
   "source": [
    "#### The answer:"
   ]
  },
  {
   "cell_type": "code",
   "execution_count": 193,
   "id": "937a35f4",
   "metadata": {},
   "outputs": [
    {
     "name": "stdout",
     "output_type": "stream",
     "text": [
      "Answer: 2015.0\n"
     ]
    }
   ],
   "source": [
    "y = dataset2['manufacture_year'].max()\n",
    "print(\"Answer:\",y)"
   ]
  },
  {
   "cell_type": "markdown",
   "id": "7ac1089c",
   "metadata": {},
   "source": [
    "### Research Q. 3) What is the average car price?\n",
    "#### ( Here will we see the the average car price )"
   ]
  },
  {
   "cell_type": "markdown",
   "id": "82fc4456",
   "metadata": {},
   "source": [
    "#### Now we will use scatter to see the price for each car:"
   ]
  },
  {
   "cell_type": "code",
   "execution_count": 195,
   "id": "dfbb2f92",
   "metadata": {},
   "outputs": [
    {
     "data": {
      "image/png": "[encoded data removed]",
      "text/plain": [
       "<Figure size 864x864 with 1 Axes>"
      ]
     },
     "metadata": {
      "needs_background": "light"
     },
     "output_type": "display_data"
    }
   ],
   "source": [
    "index = dataset2.price_eur\n",
    "plt.figure(figsize=(12,12));\n",
    "plt.scatter(dataset2.price_eur, dataset2.maker);\n",
    "plt.xlabel(\"raise hand times\")\n",
    "plt.ylabel(\"number of visted resources\");"
   ]
  },
  {
   "cell_type": "markdown",
   "id": "86ec82e4",
   "metadata": {},
   "source": [
    "### We can see that the prices of cars often range between 0 - 40000"
   ]
  },
  {
   "cell_type": "markdown",
   "id": "5c32f71c",
   "metadata": {},
   "source": [
    "#### The answer:"
   ]
  },
  {
   "cell_type": "code",
   "execution_count": 194,
   "id": "e0f1d0c4",
   "metadata": {},
   "outputs": [
    {
     "name": "stdout",
     "output_type": "stream",
     "text": [
      "Answer: 9182.711230615316\n"
     ]
    }
   ],
   "source": [
    "z = dataset2['price_eur'].mean()\n",
    "print(\"Answer:\",z)"
   ]
  },
  {
   "cell_type": "markdown",
   "id": "951c0db2",
   "metadata": {},
   "source": [
    "<a id='Conclusions'></a>\n",
    "## Conclusions:\n",
    "#### 1-The data was able to answer all the questions accurately, which helps to get out of this data with results that help in understanding the characteristics of cars and the correlation of that with their prices.\n",
    "#### 2-The percentage of cars that use diesel is more than cars that use gasoline but we can see they are close to each other.\n",
    "#### 3-The most recent year in which a car was made is 2015, which is the year in which most cars were made.\n",
    "#### 3-That the prices of cars often range between 0 - 40000 and average car price is  9182."
   ]
  },
  {
   "cell_type": "code",
   "execution_count": null,
   "id": "bb372244",
   "metadata": {},
   "outputs": [],
   "source": []
  }
 ],
 "metadata": {
  "kernelspec": {
   "display_name": "Python 3",
   "language": "python",
   "name": "python3"
  },
  "language_info": {
   "codemirror_mode": {
    "name": "ipython",
    "version": 3
   },
   "file_extension": ".py",
   "mimetype": "text/x-python",
   "name": "python",
   "nbconvert_exporter": "python",
   "pygments_lexer": "ipython3",
   "version": "3.8.8"
  }
 },
 "nbformat": 4,
 "nbformat_minor": 5
}
